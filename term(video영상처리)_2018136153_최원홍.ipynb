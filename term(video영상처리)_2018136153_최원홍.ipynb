{
 "cells": [
  {
   "cell_type": "markdown",
   "metadata": {},
   "source": [
    "# library"
   ]
  },
  {
   "cell_type": "code",
   "execution_count": 1,
   "metadata": {},
   "outputs": [
    {
     "name": "stdout",
     "output_type": "stream",
     "text": [
      "version of python: 3.6.10 |Anaconda, Inc.| (default, May  8 2020, 04:03:53) [MSC v.1916 32 bit (Intel)]\n",
      "version of cv2: 3.4.1\n",
      "version of np: 1.17.0\n"
     ]
    }
   ],
   "source": [
    "import sys\n",
    "import cv2\n",
    "import numpy as np\n",
    "\n",
    "print('version of python:',sys.version)\n",
    "print('version of cv2:',cv2.__version__)\n",
    "print('version of np:',np.__version__)"
   ]
  },
  {
   "cell_type": "markdown",
   "metadata": {},
   "source": [
    "# pre processing"
   ]
  },
  {
   "cell_type": "code",
   "execution_count": 2,
   "metadata": {},
   "outputs": [],
   "source": [
    "# src -> gray -> blur -> Canny -> closing operation\n",
    "def pre_process(img,mask=(5,5)):\n",
    "    gray=cv2.cvtColor(img,cv2.COLOR_BGR2GRAY)\n",
    "    blur=cv2.GaussianBlur(gray,mask,0)\n",
    "    edge=cv2.Canny(blur,100,200)\n",
    "    \n",
    "    dilated=cv2.dilate(edge,mask,iterations=3)\n",
    "    eroded=cv2.erode(dilated,mask,iterations=3)\n",
    "    \n",
    "    return eroded"
   ]
  },
  {
   "cell_type": "markdown",
   "metadata": {},
   "source": [
    "# common function"
   ]
  },
  {
   "cell_type": "code",
   "execution_count": 5,
   "metadata": {},
   "outputs": [],
   "source": [
    "# get vertices of A5 paper\n",
    "def getVertices(contours):\n",
    "    cnts=sorted(contours,key=cv2.contourArea,reverse=True)[:5]\n",
    "    for c in cnts:\n",
    "        peri=cv2.arcLength(c,True)\n",
    "        vertices=cv2.approxPolyDP(c,0.02*peri,True)\n",
    "        if len(vertices)==4:\n",
    "            break\n",
    "    pts=vertices.reshape(4,2)\n",
    "    return pts\n",
    "\n",
    "\n",
    "# perspecive transform\n",
    "def perspective(frame,pts):\n",
    "    sm=pts.sum(axis=1)\n",
    "    diff=np.diff(pts,axis=1)\n",
    "    \n",
    "    topLeft=pts[np.argmin(sm)]\n",
    "    bottomRight=pts[np.argmax(sm)]\n",
    "    topRight=pts[np.argmin(diff)]\n",
    "    bottomLeft=pts[np.argmax(diff)]\n",
    "    \n",
    "    pts1=np.float32([topLeft,topRight,bottomRight,bottomLeft])\n",
    "    \n",
    "    w1=abs(bottomRight[0]-bottomLeft[0])\n",
    "    w2=abs(topRight[0]-topLeft[0])\n",
    "    h1=abs(topRight[1]-bottomRight[1])\n",
    "    h2=abs(topLeft[1]-bottomLeft[1])\n",
    "    width=max([w1,w2])\n",
    "    height=max([h1,h2])\n",
    "    \n",
    "    pts2=np.float32([[0,0],[width-1,0],[width-1,height-1],[0,height-1]])\n",
    "    \n",
    "    matrix=cv2.getPerspectiveTransform(pts1,pts2)\n",
    "    result=cv2.warpPerspective(frame,matrix,(width,height))\n",
    "    return result,width,height\n",
    "\n",
    "\n",
    "# get distance width and height\n",
    "def getDist(compacted,obj_vertices,A5_W=148,A5_H=210,pad=10):\n",
    "    whole_w,whole_h=compacted.shape[1]+2*pad,compacted.shape[0]+2*pad\n",
    "    \n",
    "    # a==mm per pixel(w), b==mm per pixel(h)\n",
    "    a=A5_W/whole_w\n",
    "    b=A5_H/whole_h\n",
    "    \n",
    "    ver=obj_vertices.copy().astype(np.int64)\n",
    "    \n",
    "    x=abs(ver[0][0]-ver[1][0])*a\n",
    "    y=abs(ver[0][1]-ver[1][1])*b\n",
    "    len1=(x**2+y**2)**0.5\n",
    "    \n",
    "    x=abs(ver[0][0]-ver[-1][0])*a\n",
    "    y=abs(ver[0][1]-ver[-1][1])*b\n",
    "    len2=(x**2+y**2)**0.5\n",
    "    \n",
    "    return (len1,len2) if len1>len2 else (len2,len1)"
   ]
  },
  {
   "cell_type": "markdown",
   "metadata": {},
   "source": [
    "# measure object size in a Image"
   ]
  },
  {
   "cell_type": "code",
   "execution_count": 6,
   "metadata": {
    "scrolled": true
   },
   "outputs": [
    {
     "ename": "ValueError",
     "evalue": "cannot reshape array of size 20 into shape (4,2)",
     "output_type": "error",
     "traceback": [
      "\u001b[1;31m---------------------------------------------------------------------------\u001b[0m",
      "\u001b[1;31mValueError\u001b[0m                                Traceback (most recent call last)",
      "\u001b[1;32m<ipython-input-6-4228a43d9210>\u001b[0m in \u001b[0;36m<module>\u001b[1;34m\u001b[0m\n\u001b[0;32m     15\u001b[0m             \u001b[1;31m### perspective transform ###\u001b[0m\u001b[1;33m\u001b[0m\u001b[1;33m\u001b[0m\u001b[1;33m\u001b[0m\u001b[0m\n\u001b[0;32m     16\u001b[0m             \u001b[0mdt\u001b[0m\u001b[1;33m,\u001b[0m\u001b[0mcontours\u001b[0m\u001b[1;33m,\u001b[0m\u001b[0mhierarchy\u001b[0m\u001b[1;33m=\u001b[0m\u001b[0mcv2\u001b[0m\u001b[1;33m.\u001b[0m\u001b[0mfindContours\u001b[0m\u001b[1;33m(\u001b[0m\u001b[0mpre\u001b[0m\u001b[1;33m.\u001b[0m\u001b[0mcopy\u001b[0m\u001b[1;33m(\u001b[0m\u001b[1;33m)\u001b[0m\u001b[1;33m,\u001b[0m\u001b[0mcv2\u001b[0m\u001b[1;33m.\u001b[0m\u001b[0mRETR_EXTERNAL\u001b[0m\u001b[1;33m,\u001b[0m\u001b[0mcv2\u001b[0m\u001b[1;33m.\u001b[0m\u001b[0mCHAIN_APPROX_SIMPLE\u001b[0m\u001b[1;33m)\u001b[0m\u001b[1;33m\u001b[0m\u001b[1;33m\u001b[0m\u001b[0m\n\u001b[1;32m---> 17\u001b[1;33m             \u001b[0mvertices\u001b[0m\u001b[1;33m=\u001b[0m\u001b[0mgetVertices\u001b[0m\u001b[1;33m(\u001b[0m\u001b[0mcontours\u001b[0m\u001b[1;33m)\u001b[0m\u001b[1;33m\u001b[0m\u001b[1;33m\u001b[0m\u001b[0m\n\u001b[0m\u001b[0;32m     18\u001b[0m             \u001b[1;31m#print(vertices)\u001b[0m\u001b[1;33m\u001b[0m\u001b[1;33m\u001b[0m\u001b[1;33m\u001b[0m\u001b[0m\n\u001b[0;32m     19\u001b[0m             \u001b[0mtransformed\u001b[0m\u001b[1;33m,\u001b[0m\u001b[0mw\u001b[0m\u001b[1;33m,\u001b[0m\u001b[0mh\u001b[0m\u001b[1;33m=\u001b[0m\u001b[0mperspective\u001b[0m\u001b[1;33m(\u001b[0m\u001b[0mpre\u001b[0m\u001b[1;33m,\u001b[0m\u001b[0mvertices\u001b[0m\u001b[1;33m)\u001b[0m\u001b[1;33m\u001b[0m\u001b[1;33m\u001b[0m\u001b[0m\n",
      "\u001b[1;32m<ipython-input-5-c3a16f186a64>\u001b[0m in \u001b[0;36mgetVertices\u001b[1;34m(contours)\u001b[0m\n\u001b[0;32m      7\u001b[0m         \u001b[1;32mif\u001b[0m \u001b[0mlen\u001b[0m\u001b[1;33m(\u001b[0m\u001b[0mvertices\u001b[0m\u001b[1;33m)\u001b[0m\u001b[1;33m==\u001b[0m\u001b[1;36m4\u001b[0m\u001b[1;33m:\u001b[0m\u001b[1;33m\u001b[0m\u001b[1;33m\u001b[0m\u001b[0m\n\u001b[0;32m      8\u001b[0m             \u001b[1;32mbreak\u001b[0m\u001b[1;33m\u001b[0m\u001b[1;33m\u001b[0m\u001b[0m\n\u001b[1;32m----> 9\u001b[1;33m     \u001b[0mpts\u001b[0m\u001b[1;33m=\u001b[0m\u001b[0mvertices\u001b[0m\u001b[1;33m.\u001b[0m\u001b[0mreshape\u001b[0m\u001b[1;33m(\u001b[0m\u001b[1;36m4\u001b[0m\u001b[1;33m,\u001b[0m\u001b[1;36m2\u001b[0m\u001b[1;33m)\u001b[0m\u001b[1;33m\u001b[0m\u001b[1;33m\u001b[0m\u001b[0m\n\u001b[0m\u001b[0;32m     10\u001b[0m     \u001b[1;32mreturn\u001b[0m \u001b[0mpts\u001b[0m\u001b[1;33m\u001b[0m\u001b[1;33m\u001b[0m\u001b[0m\n\u001b[0;32m     11\u001b[0m \u001b[1;33m\u001b[0m\u001b[0m\n",
      "\u001b[1;31mValueError\u001b[0m: cannot reshape array of size 20 into shape (4,2)"
     ]
    }
   ],
   "source": [
    "# A5 size(mm)\n",
    "A5_W=148\n",
    "A5_H=210\n",
    "\n",
    "cap=cv2.VideoCapture(0)\n",
    "if cap.isOpened():\n",
    "    while True:\n",
    "        ret, frame=cap.read()\n",
    "        if ret:\n",
    "            cv2.imshow('original',frame)\n",
    "            ### pre process ###\n",
    "            pre=pre_process(frame)\n",
    "            cv2.imshow('pre',pre)\n",
    "\n",
    "            ### perspective transform ###\n",
    "            dt,contours,hierarchy=cv2.findContours(pre.copy(),cv2.RETR_EXTERNAL,cv2.CHAIN_APPROX_SIMPLE)\n",
    "            vertices=getVertices(contours)\n",
    "            #print(vertices)\n",
    "            transformed,w,h=perspective(pre,vertices)\n",
    "            #print(transformed.shape)\n",
    "            cv2.imshow('transformed',transformed)\n",
    "\n",
    "\n",
    "            ### get roi == remove external border ###\n",
    "            pad=10\n",
    "            compacted=transformed[pad:transformed.shape[0]-pad,pad:transformed.shape[1]-pad]\n",
    "            #cv2.imshow('compacted',compacted)\n",
    "            #print(compacted.shape)\n",
    "\n",
    "\n",
    "            ### get border of the object ###\n",
    "            dt2,contours2,hierarchy=cv2.findContours(compacted.copy(),cv2.RETR_EXTERNAL,cv2.CHAIN_APPROX_SIMPLE)\n",
    "            rotateRect=cv2.minAreaRect(contours2[0])\n",
    "            obj_vertices=cv2.boxPoints(rotateRect)\n",
    "            #print(obj_vertices)\n",
    "            #obj_vertices=np.round(obj_vertices).astype(np.uint64)\n",
    "            obj_vertices=obj_vertices.astype(np.uint64)\n",
    "            #print(obj_vertices)\n",
    "\n",
    "\n",
    "            ### draw border of the object ###\n",
    "            color=cv2.cvtColor(compacted,cv2.COLOR_GRAY2BGR)\n",
    "            #cv2.drawContours(color,contours2,-1,(0,0,255),2)\n",
    "            for i in range(4):\n",
    "                cv2.line(color,tuple(obj_vertices[i]),tuple(obj_vertices[(i+1)%4]),(0,0,255),1)\n",
    "\n",
    "\n",
    "            ### get length of the object ###\n",
    "            obj_h,obj_w=getDist(compacted,obj_vertices)\n",
    "            #print('length_object:',obj_w,obj_h)\n",
    "            obj_h=str('h:%.2fmm'%np.round(obj_h,2))\n",
    "            obj_w=str('w:%.2fmm'%np.round(obj_w,2))\n",
    "            cv2.putText(color,obj_h,(obj_vertices[0][0],obj_vertices[0][1]),cv2.FONT_HERSHEY_SIMPLEX,0.5,(255,255,0),1)\n",
    "            cv2.putText(color,obj_w,(obj_vertices[3][0],obj_vertices[3][1]),cv2.FONT_HERSHEY_SIMPLEX,0.5,(255,255,0),1)\n",
    "\n",
    "            cv2.imshow('result',color)\n",
    "            if cv2.waitKey(1)!=-1:\n",
    "                break\n",
    "\n",
    "cap.release()\n",
    "cv2.destroyAllWindows()"
   ]
  },
  {
   "cell_type": "markdown",
   "metadata": {},
   "source": [
    "# error"
   ]
  },
  {
   "cell_type": "code",
   "execution_count": 1,
   "metadata": {},
   "outputs": [
    {
     "ename": "NameError",
     "evalue": "name 'np' is not defined",
     "output_type": "error",
     "traceback": [
      "\u001b[1;31m---------------------------------------------------------------------------\u001b[0m",
      "\u001b[1;31mNameError\u001b[0m                                 Traceback (most recent call last)",
      "\u001b[1;32m<ipython-input-1-695ef2782d9a>\u001b[0m in \u001b[0;36m<module>\u001b[1;34m\u001b[0m\n\u001b[0;32m      1\u001b[0m \u001b[1;31m# ground truth 24, 31.5 (mm)\u001b[0m\u001b[1;33m\u001b[0m\u001b[1;33m\u001b[0m\u001b[1;33m\u001b[0m\u001b[0m\n\u001b[1;32m----> 2\u001b[1;33m \u001b[0mGT\u001b[0m\u001b[1;33m=\u001b[0m\u001b[0mnp\u001b[0m\u001b[1;33m.\u001b[0m\u001b[0marray\u001b[0m\u001b[1;33m(\u001b[0m\u001b[0msorted\u001b[0m\u001b[1;33m(\u001b[0m\u001b[1;33m[\u001b[0m\u001b[1;36m31.5\u001b[0m\u001b[1;33m,\u001b[0m\u001b[1;36m24.0\u001b[0m\u001b[1;33m]\u001b[0m\u001b[1;33m)\u001b[0m\u001b[1;33m)\u001b[0m\u001b[1;33m\u001b[0m\u001b[1;33m\u001b[0m\u001b[0m\n\u001b[0m\u001b[0;32m      3\u001b[0m \u001b[0mmeasure\u001b[0m\u001b[1;33m=\u001b[0m\u001b[0mnp\u001b[0m\u001b[1;33m.\u001b[0m\u001b[0marray\u001b[0m\u001b[1;33m(\u001b[0m\u001b[0msorted\u001b[0m\u001b[1;33m(\u001b[0m\u001b[0mgetDist\u001b[0m\u001b[1;33m(\u001b[0m\u001b[0mcompacted\u001b[0m\u001b[1;33m,\u001b[0m\u001b[0mobj_vertices\u001b[0m\u001b[1;33m)\u001b[0m\u001b[1;33m)\u001b[0m\u001b[1;33m)\u001b[0m\u001b[1;33m\u001b[0m\u001b[1;33m\u001b[0m\u001b[0m\n\u001b[0;32m      4\u001b[0m \u001b[0mprint\u001b[0m\u001b[1;33m(\u001b[0m\u001b[1;34m'Groud-Truth(mm):'\u001b[0m\u001b[1;33m,\u001b[0m\u001b[0mGT\u001b[0m\u001b[1;33m)\u001b[0m\u001b[1;33m\u001b[0m\u001b[1;33m\u001b[0m\u001b[0m\n\u001b[0;32m      5\u001b[0m \u001b[0mprint\u001b[0m\u001b[1;33m(\u001b[0m\u001b[1;34m'measure(mm):'\u001b[0m\u001b[1;33m,\u001b[0m\u001b[0mmeasure\u001b[0m\u001b[1;33m)\u001b[0m\u001b[1;33m\u001b[0m\u001b[1;33m\u001b[0m\u001b[0m\n",
      "\u001b[1;31mNameError\u001b[0m: name 'np' is not defined"
     ]
    }
   ],
   "source": [
    "# ground truth 24, 31.5 (mm)\n",
    "GT=np.array(sorted([31.5,24.0]))\n",
    "measure=np.array(sorted(getDist(compacted,obj_vertices)))\n",
    "print('Groud-Truth(mm):',GT)\n",
    "print('measure(mm):',measure)\n",
    "print('len error(mm):',abs(GT-measure))\n",
    "print('area error(mm2):',abs(GT[0]*GT[1]-measure[0]*measure[1]))"
   ]
  }
 ],
 "metadata": {
  "kernelspec": {
   "display_name": "Python 3",
   "language": "python",
   "name": "python3"
  },
  "language_info": {
   "codemirror_mode": {
    "name": "ipython",
    "version": 3
   },
   "file_extension": ".py",
   "mimetype": "text/x-python",
   "name": "python",
   "nbconvert_exporter": "python",
   "pygments_lexer": "ipython3",
   "version": "3.6.10"
  }
 },
 "nbformat": 4,
 "nbformat_minor": 4
}
