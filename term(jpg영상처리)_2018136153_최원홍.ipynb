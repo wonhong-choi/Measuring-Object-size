{
 "cells": [
  {
   "cell_type": "markdown",
   "metadata": {},
   "source": [
    "# library"
   ]
  },
  {
   "cell_type": "code",
   "execution_count": 8,
   "metadata": {},
   "outputs": [
    {
     "name": "stdout",
     "output_type": "stream",
     "text": [
      "version of python: 3.6.10 |Anaconda, Inc.| (default, May  8 2020, 04:03:53) [MSC v.1916 32 bit (Intel)]\n",
      "version of cv2: 3.4.1\n",
      "version of np: 1.17.0\n"
     ]
    }
   ],
   "source": [
    "import sys\n",
    "import cv2\n",
    "import numpy as np\n",
    "\n",
    "print('version of python:',sys.version)\n",
    "print('version of cv2:',cv2.__version__)\n",
    "print('version of np:',np.__version__)"
   ]
  },
  {
   "cell_type": "markdown",
   "metadata": {},
   "source": [
    "# pre processing"
   ]
  },
  {
   "cell_type": "code",
   "execution_count": 9,
   "metadata": {},
   "outputs": [],
   "source": [
    "# src -> gray -> blur -> Canny -> closing operation\n",
    "def pre_process(img,mask=(5,5)):\n",
    "    gray=cv2.cvtColor(img,cv2.COLOR_BGR2GRAY)\n",
    "    blur=cv2.GaussianBlur(gray,mask,0)\n",
    "    edge=cv2.Canny(blur,100,200)\n",
    "    \n",
    "    dilated=cv2.dilate(edge,mask,iterations=3)\n",
    "    eroded=cv2.erode(dilated,mask,iterations=3)\n",
    "    \n",
    "    return eroded"
   ]
  },
  {
   "cell_type": "markdown",
   "metadata": {},
   "source": [
    "# common function"
   ]
  },
  {
   "cell_type": "code",
   "execution_count": 13,
   "metadata": {},
   "outputs": [],
   "source": [
    "# get vertices of A5 paper\n",
    "def getVertices(contours):\n",
    "    cnts=sorted(contours,key=cv2.contourArea,reverse=True)[:5]\n",
    "    for c in cnts:\n",
    "        peri=cv2.arcLength(c,True)\n",
    "        vertices=cv2.approxPolyDP(c,0.02*peri,True)\n",
    "        if len(vertices)==4:\n",
    "            break\n",
    "    pts=vertices.reshape(4,2)\n",
    "    return pts\n",
    "\n",
    "\n",
    "# perspecive transform\n",
    "def perspective(frame,pts):\n",
    "    sm=pts.sum(axis=1)\n",
    "    diff=np.diff(pts,axis=1)\n",
    "    \n",
    "    topLeft=pts[np.argmin(sm)]\n",
    "    bottomRight=pts[np.argmax(sm)]\n",
    "    topRight=pts[np.argmin(diff)]\n",
    "    bottomLeft=pts[np.argmax(diff)]\n",
    "    \n",
    "    pts1=np.float32([topLeft,topRight,bottomRight,bottomLeft])\n",
    "    \n",
    "    w1=abs(bottomRight[0]-bottomLeft[0])\n",
    "    w2=abs(topRight[0]-topLeft[0])\n",
    "    h1=abs(topRight[1]-bottomRight[1])\n",
    "    h2=abs(topLeft[1]-bottomLeft[1])\n",
    "    width=max([w1,w2])\n",
    "    height=max([h1,h2])\n",
    "    \n",
    "    pts2=np.float32([[0,0],[width-1,0],[width-1,height-1],[0,height-1]])\n",
    "    \n",
    "    matrix=cv2.getPerspectiveTransform(pts1,pts2)\n",
    "    result=cv2.warpPerspective(frame,matrix,(width,height))\n",
    "    return result,width,height\n",
    "\n",
    "\n",
    "# get distance width and height\n",
    "def getDist(compacted,obj_vertices,A5_W=148,A5_H=210,pad=10):\n",
    "    whole_w,whole_h=compacted.shape[1]+2*pad,compacted.shape[0]+2*pad\n",
    "    \n",
    "    # a==mm per pixel(w), b==mm per pixel(h)\n",
    "    a=A5_W/whole_w\n",
    "    b=A5_H/whole_h\n",
    "    \n",
    "    ver=obj_vertices.copy().astype(np.int64)\n",
    "    \n",
    "    x=abs(ver[0][0]-ver[1][0])*a\n",
    "    y=abs(ver[0][1]-ver[1][1])*b\n",
    "    len1=(x**2+y**2)**0.5\n",
    "    \n",
    "    x=abs(ver[0][0]-ver[-1][0])*a\n",
    "    y=abs(ver[0][1]-ver[-1][1])*b\n",
    "    len2=(x**2+y**2)**0.5\n",
    "    \n",
    "    return (len1,len2) if len1>len2 else (len2,len1)"
   ]
  },
  {
   "cell_type": "markdown",
   "metadata": {},
   "source": [
    "# measure object size in a Image"
   ]
  },
  {
   "cell_type": "code",
   "execution_count": 20,
   "metadata": {
    "scrolled": true
   },
   "outputs": [
    {
     "name": "stdout",
     "output_type": "stream",
     "text": [
      "length_object: 25.058201058201057 32.42839352428393\n"
     ]
    }
   ],
   "source": [
    "# A5 size(mm)\n",
    "A5_W=148\n",
    "A5_H=210\n",
    "\n",
    "frame=cv2.imread('image1.jpg')\n",
    "#frame=cv2.resize(frame,dsize=(0,0),fx=0.5,fy=0.5)\n",
    "cv2.imshow('frame',frame)\n",
    "### pre process ###\n",
    "pre=pre_process(frame)\n",
    "cv2.imshow('pre',pre)\n",
    "\n",
    "### perspective transform ###\n",
    "dt,contours,hierarchy=cv2.findContours(pre.copy(),cv2.RETR_EXTERNAL,cv2.CHAIN_APPROX_SIMPLE)\n",
    "vertices=getVertices(contours)\n",
    "#print(vertices)\n",
    "transformed,w,h=perspective(pre,vertices)\n",
    "#print(transformed.shape)\n",
    "cv2.imshow('transformed',transformed)\n",
    "\n",
    "\n",
    "### get roi == remove external border ###\n",
    "pad=10\n",
    "compacted=transformed[pad:transformed.shape[0]-pad,pad:transformed.shape[1]-pad]\n",
    "cv2.imshow('compacted',compacted)\n",
    "#print(compacted.shape)\n",
    "\n",
    "\n",
    "### get border of the object ###\n",
    "dt2,contours2,hierarchy=cv2.findContours(compacted.copy(),cv2.RETR_EXTERNAL,cv2.CHAIN_APPROX_SIMPLE)\n",
    "rotateRect=cv2.minAreaRect(contours2[0])\n",
    "obj_vertices=cv2.boxPoints(rotateRect)\n",
    "#print(obj_vertices)\n",
    "#obj_vertices=np.round(obj_vertices).astype(np.uint64)\n",
    "obj_vertices=obj_vertices.astype(np.uint64)\n",
    "#print(obj_vertices)\n",
    "\n",
    "\n",
    "### draw border of the object ###\n",
    "color=cv2.cvtColor(compacted,cv2.COLOR_GRAY2BGR)\n",
    "#cv2.drawContours(color,contours2,-1,(0,0,255),2)\n",
    "for i in range(4):\n",
    "    cv2.line(color,tuple(obj_vertices[i]),tuple(obj_vertices[(i+1)%4]),(0,0,255),1)\n",
    "\n",
    "    \n",
    "### get length of the object ###\n",
    "obj_h,obj_w=getDist(compacted,obj_vertices)\n",
    "print('length_object:',obj_w,obj_h)\n",
    "obj_h=str('h:%.2fmm'%np.round(obj_h,2))\n",
    "obj_w=str('w:%.2fmm'%np.round(obj_w,2))\n",
    "cv2.putText(color,obj_h,(obj_vertices[0][0],obj_vertices[0][1]),cv2.FONT_HERSHEY_SIMPLEX,0.5,(255,255,0),1)\n",
    "cv2.putText(color,obj_w,(obj_vertices[3][0],obj_vertices[3][1]),cv2.FONT_HERSHEY_SIMPLEX,0.5,(255,255,0),1)\n",
    "\n",
    "cv2.imshow('result',color)\n",
    "\n",
    "cv2.waitKey(0)\n",
    "cv2.destroyAllWindows()"
   ]
  },
  {
   "cell_type": "markdown",
   "metadata": {},
   "source": [
    "# error"
   ]
  },
  {
   "cell_type": "code",
   "execution_count": 21,
   "metadata": {},
   "outputs": [
    {
     "name": "stdout",
     "output_type": "stream",
     "text": [
      "Groud-Truth(mm): [24.  31.5]\n",
      "measure(mm): [25.05820106 32.42839352]\n",
      "len error(mm): [1.05820106 0.92839352]\n",
      "area error(mm2): 56.59720492597194\n"
     ]
    }
   ],
   "source": [
    "# ground truth 24, 31.5 (mm)\n",
    "GT=np.array(sorted([31.5,24.0]))\n",
    "measure=np.array(sorted(getDist(compacted,obj_vertices)))\n",
    "print('Groud-Truth(mm):',GT)\n",
    "print('measure(mm):',measure)\n",
    "print('len error(mm):',abs(GT-measure))\n",
    "print('area error(mm2):',abs(GT[0]*GT[1]-measure[0]*measure[1]))"
   ]
  },
  {
   "cell_type": "code",
   "execution_count": null,
   "metadata": {},
   "outputs": [],
   "source": []
  }
 ],
 "metadata": {
  "kernelspec": {
   "display_name": "Python 3",
   "language": "python",
   "name": "python3"
  },
  "language_info": {
   "codemirror_mode": {
    "name": "ipython",
    "version": 3
   },
   "file_extension": ".py",
   "mimetype": "text/x-python",
   "name": "python",
   "nbconvert_exporter": "python",
   "pygments_lexer": "ipython3",
   "version": "3.6.10"
  }
 },
 "nbformat": 4,
 "nbformat_minor": 4
}
